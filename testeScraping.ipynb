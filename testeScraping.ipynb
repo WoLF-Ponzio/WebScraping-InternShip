{
 "cells": [
  {
   "cell_type": "code",
   "execution_count": 3,
   "metadata": {},
   "outputs": [],
   "source": [
    "import csv\n",
    "import time\n",
    "import requests\n",
    "import pandas as pd\n",
    "from bs4 import BeautifulSoup\n",
    "from selenium import webdriver\n",
    "from selenium.webdriver.firefox.options import Options\n",
    "from selenium.webdriver.firefox.firefox_binary import FirefoxBinary\n",
    "from selenium.webdriver.common.by import By\n",
    "import mysql.connector"
   ]
  },
  {
   "cell_type": "code",
   "execution_count": 4,
   "metadata": {},
   "outputs": [
    {
     "name": "stdout",
     "output_type": "stream",
     "text": [
      "Conexão com o banco de dados realizada com sucesso!\n",
      "Schema criado com sucesso!\n",
      "Tabelas criadas com sucesso!\n"
     ]
    }
   ],
   "source": [
    "#Conexão incial com o banco de dados\n",
    "conexao =  mysql.connector.connect(host='localhost',user='root',password='root')\n",
    "print('Conexão com o banco de dados realizada com sucesso!')\n",
    "\n",
    "#Criação do Schema e das tabelas do banco de dados\n",
    "cursor = conexao.cursor()\n",
    "schema = \"\"\"CREATE SCHEMA IF NOT EXISTS `Raspagem` DEFAULT CHARACTER SET utf8mb4 COLLATE utf8mb4_unicode_ci;\"\"\"\n",
    "tables = \"\"\"CREATE TABLE IF NOT EXISTS `Raspagem`.`Vagas` (\n",
    "            ID INT NOT NULL AUTO_INCREMENT,\n",
    "            Vaga VARCHAR(200) NOT NULL,\n",
    "            Empresa VARCHAR(200) NOT NULL,\n",
    "            Local VARCHAR(200) NOT NULL,\n",
    "            Data DATE NOT NULL,\n",
    "            Descricao MEDIUMTEXT NOT NULL,\n",
    "            Primary Key (ID)\n",
    "            ) ENGINE = InnoDB;\n",
    "        \"\"\"\n",
    "cursor.execute(schema)\n",
    "cursor.execute('use Raspagem')\n",
    "print('Schema criado com sucesso!')\n",
    "cursor.execute(tables)\n",
    "print('Tabelas criadas com sucesso!')\n",
    "conexao.close()\n",
    "\n",
    "conexao = mysql.connector.connect(host='localhost', database= 'Raspagem',user='root', password='root')\n",
    "cursor = conexao.cursor()"
   ]
  },
  {
   "cell_type": "code",
   "execution_count": 10,
   "metadata": {},
   "outputs": [
    {
     "name": "stderr",
     "output_type": "stream",
     "text": [
      "C:\\Users\\gabriel.ponzio\\AppData\\Local\\Temp\\ipykernel_14604\\170465390.py:5: DeprecationWarning: executable_path has been deprecated, please pass in a Service object\n",
      "  driver = webdriver.Firefox(firefox_binary=binary, executable_path=\"C:\\\\geckodriver.exe\",)\n",
      "C:\\Users\\gabriel.ponzio\\AppData\\Local\\Temp\\ipykernel_14604\\170465390.py:5: DeprecationWarning: firefox_binary has been deprecated, please pass in a Service object\n",
      "  driver = webdriver.Firefox(firefox_binary=binary, executable_path=\"C:\\\\geckodriver.exe\",)\n"
     ]
    },
    {
     "ename": "KeyboardInterrupt",
     "evalue": "",
     "output_type": "error",
     "traceback": [
      "\u001b[1;31m---------------------------------------------------------------------------\u001b[0m",
      "\u001b[1;31mKeyboardInterrupt\u001b[0m                         Traceback (most recent call last)",
      "\u001b[1;32mc:\\Users\\gabriel.ponzio\\Documents\\Aula Python\\testeScraping.ipynb Cell 3\u001b[0m line \u001b[0;36m2\n\u001b[0;32m     <a href='vscode-notebook-cell:/c%3A/Users/gabriel.ponzio/Documents/Aula%20Python/testeScraping.ipynb#W3sZmlsZQ%3D%3D?line=22'>23</a>\u001b[0m \u001b[39m#Acessa o Descritivo da Vaga e obtem a descrição dela\u001b[39;00m\n\u001b[0;32m     <a href='vscode-notebook-cell:/c%3A/Users/gabriel.ponzio/Documents/Aula%20Python/testeScraping.ipynb#W3sZmlsZQ%3D%3D?line=23'>24</a>\u001b[0m driver\u001b[39m.\u001b[39mfind_element(By\u001b[39m.\u001b[39mXPATH, \u001b[39m'\u001b[39m\u001b[39m/html/body/li[\u001b[39m\u001b[39m'\u001b[39m\u001b[39m+\u001b[39m \u001b[39mstr\u001b[39m(i) \u001b[39m+\u001b[39m \u001b[39m'\u001b[39m\u001b[39m]/div/a/span\u001b[39m\u001b[39m'\u001b[39m)\u001b[39m.\u001b[39mclick() \n\u001b[1;32m---> <a href='vscode-notebook-cell:/c%3A/Users/gabriel.ponzio/Documents/Aula%20Python/testeScraping.ipynb#W3sZmlsZQ%3D%3D?line=24'>25</a>\u001b[0m time\u001b[39m.\u001b[39msleep(\u001b[39m4\u001b[39m)\n\u001b[0;32m     <a href='vscode-notebook-cell:/c%3A/Users/gabriel.ponzio/Documents/Aula%20Python/testeScraping.ipynb#W3sZmlsZQ%3D%3D?line=25'>26</a>\u001b[0m driver\u001b[39m.\u001b[39mfind_element(By\u001b[39m.\u001b[39mXPATH, \u001b[39m'\u001b[39m\u001b[39m//*[@id=\u001b[39m\u001b[39m\"\u001b[39m\u001b[39mmain-content\u001b[39m\u001b[39m\"\u001b[39m\u001b[39m]/section[1]/div/div/section[1]/div/div/section/button[1]\u001b[39m\u001b[39m'\u001b[39m)\u001b[39m.\u001b[39mclick()\n\u001b[0;32m     <a href='vscode-notebook-cell:/c%3A/Users/gabriel.ponzio/Documents/Aula%20Python/testeScraping.ipynb#W3sZmlsZQ%3D%3D?line=26'>27</a>\u001b[0m Desc \u001b[39m=\u001b[39m driver\u001b[39m.\u001b[39mfind_element(By\u001b[39m.\u001b[39mXPATH, \u001b[39m'\u001b[39m\u001b[39m//*[@id=\u001b[39m\u001b[39m\"\u001b[39m\u001b[39mmain-content\u001b[39m\u001b[39m\"\u001b[39m\u001b[39m]/section[1]/div/div/section[1]/div/div/section/div\u001b[39m\u001b[39m'\u001b[39m)\u001b[39m.\u001b[39mtext\n",
      "\u001b[1;31mKeyboardInterrupt\u001b[0m: "
     ]
    }
   ],
   "source": [
    "#Raspagem Oficial\n",
    "#Setup para a raspagem\n",
    "url = 'https://www.linkedin.com/jobs-guest/jobs/api/seeMoreJobPostings/search?keywords=&location=Brasil&geoId=106057199&trk=public_jobs_jobs-search-bar_search-submit&position=1&pageNum=0&start=0'\n",
    "binary = FirefoxBinary(\"C:\\\\Program Files\\\\Mozilla Firefox\\\\firefox.exe\")\n",
    "driver = webdriver.Firefox(firefox_binary=binary, executable_path=\"C:\\\\geckodriver.exe\",)\n",
    "\n",
    "#Raspagem\n",
    "vagas = []\n",
    "#A plataforma permite a visualização de 1000 páginas de vagas, depois da 1000 ele apresenta erro 404\n",
    "for page in range (18, 1000):\n",
    "    url = 'https://www.linkedin.com/jobs-guest/jobs/api/seeMoreJobPostings/search?keywords=&location=Brasil&geoId=106057199&trk=public_jobs_jobs-search-bar_search-submit&position=1&pageNum=0&start='+ str(page)\n",
    "    driver.get(url)\n",
    "    time.sleep(4)\n",
    "    \n",
    "    #Cada Página apresenta 25 vagas\n",
    "    for i in range(1, 26):\n",
    "        #Obtendo os dados da vaga\n",
    "        Vaga = driver.find_element(By.XPATH, '/html/body/li[' + str(i) + ']/div/div[2]/h3').text\n",
    "        Empresa = driver.find_element(By.XPATH, '/html/body/li[' + str(i) + ']/div/div[2]/h4/a').text\n",
    "        Local = driver.find_element(By.XPATH, '/html/body/li['  + str(i) + ']/div/div[2]/div/span').text \n",
    "        Data = driver.find_element(By.XPATH, '/html/body/li['   + str(i) + ']/div/div[2]/div/time').get_attribute('datetime')\n",
    "\n",
    "        #Acessa o Descritivo da Vaga e obtem a descrição dela\n",
    "        driver.find_element(By.XPATH, '/html/body/li['+ str(i) + ']/div/a/span').click() \n",
    "        time.sleep(4)\n",
    "        driver.find_element(By.XPATH, '//*[@id=\"main-content\"]/section[1]/div/div/section[1]/div/div/section/button[1]').click()\n",
    "        Desc = driver.find_element(By.XPATH, '//*[@id=\"main-content\"]/section[1]/div/div/section[1]/div/div/section/div').text\n",
    "        driver.back()\n",
    "        time.sleep(4)\n",
    "        vagas.append({'Vaga' : Vaga, 'Empresa' : Empresa, 'Local' : Local, 'Data' : Data, 'Desc' : Desc})\n",
    "\n",
    "        #Salva no Banco de Dados\n",
    "        cursor.execute('INSERT INTO Vagas (Vaga, Empresa, Local, Data, descricao) VALUES (%s, %s, %s, %s, %s)', (Vaga, Empresa, Local, Data, Desc))  \n",
    "        conexao.commit()"
   ]
  },
  {
   "cell_type": "code",
   "execution_count": 36,
   "metadata": {},
   "outputs": [
    {
     "name": "stderr",
     "output_type": "stream",
     "text": [
      "C:\\Users\\gabriel.ponzio\\AppData\\Local\\Temp\\ipykernel_13912\\2036957789.py:5: DeprecationWarning: executable_path has been deprecated, please pass in a Service object\n",
      "  driver = webdriver.Firefox(firefox_binary=binary, executable_path=\"C:\\\\geckodriver.exe\",)\n",
      "C:\\Users\\gabriel.ponzio\\AppData\\Local\\Temp\\ipykernel_13912\\2036957789.py:5: DeprecationWarning: firefox_binary has been deprecated, please pass in a Service object\n",
      "  driver = webdriver.Firefox(firefox_binary=binary, executable_path=\"C:\\\\geckodriver.exe\",)\n"
     ]
    },
    {
     "name": "stdout",
     "output_type": "stream",
     "text": [
      "{'Vaga': 'Unisinos POA - Assistente Administrativo', 'Empresa': 'Universidade do Vale do Rio dos Sinos', 'Local': 'Porto Alegre, RS', 'Data': '2023-11-07', 'Desc': 'A equipe de Serviços e Relacionamento da Unisinos busca profissional para atuar no time do Campus POA.\\n\\nValorizamos a pluralidade, em todos os aspectos, trabalhamos com a convicção de que ela nos possibilita criar vínculos incríveis! Nossas oportunidades independem de gênero, cor/raça, etnia, deficiência, idade, família ou estado civil, identidade ou expressão de gênero, nacionalidade, afiliação política, religião, orientação sexual, dentre outras. Todas as pessoas são bem-vindas no #TimeUnisinos!\\n\\nPara participar é necessário realizar todas as etapas do cadastro, inclusive os desafios práticos.\\n\\n\\nResponsabilidades e atribuições\\n\\nAcompanhar resultados da Coordenação, bem como organização de ações visando o atingimento das metas de atendimento;\\nApoiar frente aos grupos de trabalho da Coordenação, bem como no suporte à equipe de atendimento, apoiando nos encaminhamentos e no esclarecimento de dúvidas;\\nAtender ao público pelos canais presencial, telefone, whatsapp e e-mail;\\nAuxiliar nos processos/ serviços de ingresso, matrícula, convênios, financeiro, acompanhamento curricular, emissão de documentos, conclusão de curso, bolsas e financiamentos;\\nContatar estudantes através de ações ativas de telemarketing e whatsapp;\\nPrestar informações sobre cursos, eventos, atividades realizadas nos campi, assuntos acadêmicos, financeiros, entre outros;\\nExecutar atividades internas da área e apoiar no desenvolvimento de projetos internos.\\n\\n\\nRequisitos e qualificações\\n\\nEnsino superior em andamento, preferencialmente em Administração ou em áreas afins;\\nComunicação Assertiva;\\nConhecimento no Pacote Office (Word, Excel, PowerPoint);\\nPostura colaborativa e resiliente com foco na resolução de problemas;\\nProatividade.\\nNoções de matemática financeira.\\n\\n\\nInformações adicionais\\n\\nLocal de Atuação: Porto Alegre\\n\\nHorário: Segunda a sexta-feira, das 12h às 16h e das 17h às 21h e rodízio aos sábados\\n\\nRemuneração: R$ 3.005,71\\n\\nBenefícios:\\n\\nBolsa de graduação com até 80% de desconto para funcionários;\\nBolsa de graduação com 100% de desconto para PCDs;\\nBolsa especialização com desconto de 50% após 1 ano de casa;\\nPrograma de Saúde Mental - Jornada de Saúde e Bem Estar;\\nRecesso remunerado de final de ano ( entre Natal e Ano Novo);\\nJornada de 40 horas semanais;\\nCapacitações Internas;\\nCursos de Extensão e idiomas com 50% de desconto após contrato de experiência;\\nConvênio com farmácias;\\nConvênio com SESC;\\nEstacionamento gratuito;\\nPlano de saúde e odontológico Coopersinos - Unimed, Doctor Clin e Uniodonto ;\\nReembolso creche parcial para filhos de até 4 anos;\\nSeguro de vida;\\nVale Transporte.'}\n",
      "{'Vaga': 'Auxiliar de Recebimento Fiscal', 'Empresa': 'Mobly', 'Local': 'Cajamar, SP', 'Data': '2023-10-31', 'Desc': 'A Mobly é uma renomada loja de móveis online que, desde 2011, se dedica a fornecer aos seus clientes os melhores produtos para suas casas. Com base em tecnologia de ponta, oferta de produtos exclusivos e uma forte base de inteligência de dados, temos ajudado inúmeras pessoas a transformarem suas residências em espaços mais aconchegantes. Em 2021, alcançamos um marco importante com nosso IPO, e estamos cada vez mais próximos de concretizar nossa visão de nos tornarmos a maior e melhor loja de móveis e decoração da América Latina até 2025.\\n\\nResponsabilidades e atribuições\\n\\nIra trabalhar com recebimento e liberação de canhotos, emissão de devolução.\\nFaturamento manual - Sistema ERP (Totvs)\\n\\n\\nRequisitos e qualificações\\n\\nDisponibilidade de horário\\nComunicativo\\nHabilidade com Computador\\nConhecimento básico em Excel'}\n"
     ]
    }
   ],
   "source": [
    "#Modelo de Teste\n",
    "#Setup para a raspagem\n",
    "url = 'https://www.linkedin.com/jobs-guest/jobs/api/seeMoreJobPostings/search?keywords=&location=Brasil&geoId=106057199&trk=public_jobs_jobs-search-bar_search-submit&position=1&pageNum=0&start=0'\n",
    "binary = FirefoxBinary(\"C:\\\\Program Files\\\\Mozilla Firefox\\\\firefox.exe\")\n",
    "driver = webdriver.Firefox(firefox_binary=binary, executable_path=\"C:\\\\geckodriver.exe\",)\n",
    "\n",
    "#Raspagem\n",
    "vagas = []\n",
    "#A plataforma permite a visualização de 1000 páginas de vagas, depois da 1000 ele apresenta erro 404\n",
    "for page in range (0, 2):\n",
    "    url = 'https://www.linkedin.com/jobs-guest/jobs/api/seeMoreJobPostings/search?keywords=&location=Brasil&geoId=106057199&trk=public_jobs_jobs-search-bar_search-submit&position=1&pageNum=0&start='+ str(page)\n",
    "    driver.get(url)\n",
    "    time.sleep(2)\n",
    "    \n",
    "    #Cada Página apresenta 25 vagas\n",
    "    \n",
    "    #Obtendo os dados da vaga\n",
    "    Vaga = driver.find_element(By.XPATH,  '/html/body/li[' + str(1)+ ']/div/div[2]/h3').text\n",
    "    Empresa = driver.find_element(By.XPATH, '/html/body/li['+ str(1) + ']/div/div[2]/h4/a').text\n",
    "    Local = driver.find_element(By.XPATH, '/html/body/li['+ str(1) + ']/div/div[2]/div/span').text\n",
    "    Data = driver.find_element(By.XPATH, '/html/body/li[' + str(1) + ']/div/div[2]/div/time').get_attribute('datetime')\n",
    "    #Acessa o Descritivo da Vaga e obtem a descrição dela\n",
    "    driver.find_element(By.XPATH, '/html/body/li['+ str(1) + ']/div/a').click()\n",
    "    time.sleep(2)\n",
    "    driver.find_element(By.XPATH, '//*[@id=\"main-content\"]/section[1]/div/div/section[1]/div/div/section/button[1]').click()\n",
    "    Desc = driver.find_element(By.XPATH, '//*[@id=\"main-content\"]/section[1]/div/div/section[1]/div/div/section/div').text\n",
    "    driver.back()\n",
    "    time.sleep(1)\n",
    "    vagas.append({'Vaga' : Vaga, 'Empresa' : Empresa, 'Local' : Local, 'Data' : Data, 'Desc' : Desc})\n",
    "        #Salva no Banco de Dados\n",
    "    cursor.execute('INSERT INTO Vagas (Vaga, Empresa, Local, Data, descricao) VALUES (%s, %s, %s, %s, %s)', (Vaga, Empresa, Local, Data, Desc))  \n",
    "    conexao.commit()\n",
    "\n",
    "print(vagas[0])\n",
    "print(vagas[1])"
   ]
  }
 ],
 "metadata": {
  "kernelspec": {
   "display_name": "Python 3",
   "language": "python",
   "name": "python3"
  },
  "language_info": {
   "codemirror_mode": {
    "name": "ipython",
    "version": 3
   },
   "file_extension": ".py",
   "mimetype": "text/x-python",
   "name": "python",
   "nbconvert_exporter": "python",
   "pygments_lexer": "ipython3",
   "version": "3.11.4"
  }
 },
 "nbformat": 4,
 "nbformat_minor": 2
}
