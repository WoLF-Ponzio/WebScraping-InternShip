{
 "cells": [
  {
   "cell_type": "code",
   "execution_count": 1,
   "metadata": {},
   "outputs": [],
   "source": [
    "import time\n",
    "import pandas as pd\n",
    "from bs4 import BeautifulSoup\n",
    "from selenium import webdriver\n",
    "from selenium.webdriver.firefox.options import Options\n",
    "from selenium.webdriver.firefox.firefox_binary import FirefoxBinary\n",
    "from selenium.webdriver.common.by import By\n",
    "import mysql.connector"
   ]
  },
  {
   "cell_type": "code",
   "execution_count": 2,
   "metadata": {},
   "outputs": [
    {
     "name": "stdout",
     "output_type": "stream",
     "text": [
      "Conexão com o banco de dados realizada com sucesso!\n",
      "Schema criado com sucesso!\n",
      "Tabelas criadas com sucesso!\n"
     ]
    }
   ],
   "source": [
    "#Conexão incial com o banco de dados\n",
    "conexao =  mysql.connector.connect(host='localhost',user='root',password='root')\n",
    "print('Conexão com o banco de dados realizada com sucesso!')\n",
    "\n",
    "#Criação do Schema e das tabelas do banco de dados\n",
    "cursor = conexao.cursor()\n",
    "schema = \"\"\"CREATE SCHEMA IF NOT EXISTS `Raspagem` DEFAULT CHARACTER SET utf8mb4 COLLATE utf8mb4_unicode_ci;\"\"\"\n",
    "tables = \"\"\"use raspagem;\n",
    "CREATE TABLE IF NOT EXISTS `Raspagem`.`Tipo_Vaga` (\n",
    "            ID Int not null Auto_increment,\n",
    "            Tipo Varchar(50),\n",
    "            Primary Key (ID)\n",
    "             ) Engine = InnoDB;\n",
    "\n",
    "CREATE TABLE IF NOT EXISTS `Raspagem`.`Vagas` (\n",
    "            ID INT NOT NULL AUTO_INCREMENT,\n",
    "            Vaga VARCHAR(200) NOT NULL,\n",
    "            Empresa VARCHAR(200) NOT NULL,\n",
    "            Local VARCHAR(200) NOT NULL,\n",
    "            Data DATE NOT NULL,\n",
    "            Descricao MEDIUMTEXT NOT NULL,\n",
    "            URL VARCHAR(500) NOT NULL,\n",
    "            UltimoAcesso DATETIME NOT NULL DEFAULT CURRENT_TIMESTAMP,\n",
    "            TipoVaga INT NOT NULL, \n",
    "            Primary Key (ID),\n",
    "            FOREIGN KEY (TipoVaga) REFERENCES Tipo_Vaga(ID)\n",
    "            ) ENGINE = InnoDB;\n",
    "        \"\"\"\n",
    "cursor.execute(schema)\n",
    "cursor.execute('use Raspagem')\n",
    "print('Schema criado com sucesso!')\n",
    "cursor.execute(tables)\n",
    "print('Tabelas criadas com sucesso!')\n",
    "conexao.close()\n",
    "\n",
    "conexao = mysql.connector.connect(host='localhost', database= 'Raspagem',user='root', password='root')\n",
    "cursor = conexao.cursor()"
   ]
  },
  {
   "cell_type": "code",
   "execution_count": 3,
   "metadata": {},
   "outputs": [],
   "source": [
    "#Reconexão com o banco de dados\n",
    "conexao = mysql.connector.connect(host='localhost', database= 'Raspagem',user='root', password='root')\n",
    "cursor = conexao.cursor()"
   ]
  },
  {
   "cell_type": "code",
   "execution_count": 4,
   "metadata": {},
   "outputs": [],
   "source": [
    "#Inserção dos tipos de vagas\n",
    "cursor.execute(\"insert into tipo_vaga (Tipo) values ('Estágio');\")\n",
    "cursor.execute(\"insert into tipo_vaga (Tipo) values ('Assistente');\")\n",
    "cursor.execute(\"insert into tipo_vaga (Tipo) values ('Júnior');\")\n",
    "cursor.execute(\"insert into tipo_vaga (Tipo) values ('Pleno-Sênior');\")\n",
    "cursor.execute(\"insert into tipo_vaga (Tipo) values ('Diretor');\")"
   ]
  },
  {
   "cell_type": "code",
   "execution_count": 8,
   "metadata": {},
   "outputs": [
    {
     "name": "stderr",
     "output_type": "stream",
     "text": [
      "C:\\Users\\gabriel.ponzio\\AppData\\Local\\Temp\\ipykernel_18824\\1934112101.py:6: DeprecationWarning: executable_path has been deprecated, please pass in a Service object\n",
      "  driver = webdriver.Firefox(firefox_binary=binary, executable_path=\"C:\\\\geckodriver.exe\",)\n",
      "C:\\Users\\gabriel.ponzio\\AppData\\Local\\Temp\\ipykernel_18824\\1934112101.py:6: DeprecationWarning: firefox_binary has been deprecated, please pass in a Service object\n",
      "  driver = webdriver.Firefox(firefox_binary=binary, executable_path=\"C:\\\\geckodriver.exe\",)\n"
     ]
    },
    {
     "name": "stdout",
     "output_type": "stream",
     "text": [
      "A vaga assistente administrativo já está cadastrada.\n",
      "A vaga Balconista de Farmácia - João XXIII já está cadastrada.\n",
      "A vaga Balconista de Farmácia - João XXIII já está cadastrada.\n",
      "A vaga Recepcionista já está cadastrada.\n",
      "A vaga assistente administrativo já está cadastrada.\n",
      "A vaga balconista já está cadastrada.\n",
      "A vaga Acompanhante de Idoso já está cadastrada.\n",
      "A vaga Acompanhante de Idoso já está cadastrada.\n",
      "A vaga Atendente de Adega já está cadastrada.\n",
      "A vaga auxiliar administrativo já está cadastrada.\n",
      "A vaga operador de caixa já está cadastrada.\n",
      "A vaga auxiliar de loja já está cadastrada.\n",
      "A vaga Auxiliar de Serviços Gerais - Limpeza já está cadastrada.\n",
      "A vaga vendedor já está cadastrada.\n"
     ]
    },
    {
     "ename": "InvalidSessionIdException",
     "evalue": "Message: Tried to run command without establishing a connection\n",
     "output_type": "error",
     "traceback": [
      "\u001b[1;31m---------------------------------------------------------------------------\u001b[0m",
      "\u001b[1;31mInvalidSessionIdException\u001b[0m                 Traceback (most recent call last)",
      "\u001b[1;32mc:\\source\\WebScraping-InternShip\\Source\\WebScrapingLinkedin.ipynb Cell 5\u001b[0m line \u001b[0;36m1\n\u001b[0;32m     <a href='vscode-notebook-cell:/c%3A/source/WebScraping-InternShip/Source/WebScrapingLinkedin.ipynb#W4sZmlsZQ%3D%3D?line=9'>10</a>\u001b[0m \u001b[39mfor\u001b[39;00m page \u001b[39min\u001b[39;00m \u001b[39mrange\u001b[39m (\u001b[39m0\u001b[39m, \u001b[39m100\u001b[39m, \u001b[39m25\u001b[39m):\n\u001b[0;32m     <a href='vscode-notebook-cell:/c%3A/source/WebScraping-InternShip/Source/WebScrapingLinkedin.ipynb#W4sZmlsZQ%3D%3D?line=10'>11</a>\u001b[0m     url \u001b[39m=\u001b[39m \u001b[39m'\u001b[39m\u001b[39mhttps://www.linkedin.com/jobs-guest/jobs/api/seeMoreJobPostings/search?keywords=&location=Brasil&locationId=&geoId=106057199&f_TPR=&f_E=2&start=\u001b[39m\u001b[39m'\u001b[39m\u001b[39m+\u001b[39m \u001b[39mstr\u001b[39m(page)\n\u001b[1;32m---> <a href='vscode-notebook-cell:/c%3A/source/WebScraping-InternShip/Source/WebScrapingLinkedin.ipynb#W4sZmlsZQ%3D%3D?line=11'>12</a>\u001b[0m     driver\u001b[39m.\u001b[39;49mget(url)\n\u001b[0;32m     <a href='vscode-notebook-cell:/c%3A/source/WebScraping-InternShip/Source/WebScrapingLinkedin.ipynb#W4sZmlsZQ%3D%3D?line=12'>13</a>\u001b[0m     time\u001b[39m.\u001b[39msleep(\u001b[39m4\u001b[39m)\n\u001b[0;32m     <a href='vscode-notebook-cell:/c%3A/source/WebScraping-InternShip/Source/WebScrapingLinkedin.ipynb#W4sZmlsZQ%3D%3D?line=14'>15</a>\u001b[0m     \u001b[39m#Cada Página apresenta 25 vagas\u001b[39;00m\n",
      "File \u001b[1;32mc:\\Users\\gabriel.ponzio\\AppData\\Local\\Programs\\Python\\Python311\\Lib\\site-packages\\selenium\\webdriver\\remote\\webdriver.py:449\u001b[0m, in \u001b[0;36mWebDriver.get\u001b[1;34m(self, url)\u001b[0m\n\u001b[0;32m    447\u001b[0m \u001b[39mdef\u001b[39;00m \u001b[39mget\u001b[39m(\u001b[39mself\u001b[39m, url: \u001b[39mstr\u001b[39m) \u001b[39m-\u001b[39m\u001b[39m>\u001b[39m \u001b[39mNone\u001b[39;00m:\n\u001b[0;32m    448\u001b[0m \u001b[39m    \u001b[39m\u001b[39m\"\"\"Loads a web page in the current browser session.\"\"\"\u001b[39;00m\n\u001b[1;32m--> 449\u001b[0m     \u001b[39mself\u001b[39;49m\u001b[39m.\u001b[39;49mexecute(Command\u001b[39m.\u001b[39;49mGET, {\u001b[39m\"\u001b[39;49m\u001b[39murl\u001b[39;49m\u001b[39m\"\u001b[39;49m: url})\n",
      "File \u001b[1;32mc:\\Users\\gabriel.ponzio\\AppData\\Local\\Programs\\Python\\Python311\\Lib\\site-packages\\selenium\\webdriver\\remote\\webdriver.py:440\u001b[0m, in \u001b[0;36mWebDriver.execute\u001b[1;34m(self, driver_command, params)\u001b[0m\n\u001b[0;32m    438\u001b[0m response \u001b[39m=\u001b[39m \u001b[39mself\u001b[39m\u001b[39m.\u001b[39mcommand_executor\u001b[39m.\u001b[39mexecute(driver_command, params)\n\u001b[0;32m    439\u001b[0m \u001b[39mif\u001b[39;00m response:\n\u001b[1;32m--> 440\u001b[0m     \u001b[39mself\u001b[39;49m\u001b[39m.\u001b[39;49merror_handler\u001b[39m.\u001b[39;49mcheck_response(response)\n\u001b[0;32m    441\u001b[0m     response[\u001b[39m\"\u001b[39m\u001b[39mvalue\u001b[39m\u001b[39m\"\u001b[39m] \u001b[39m=\u001b[39m \u001b[39mself\u001b[39m\u001b[39m.\u001b[39m_unwrap_value(response\u001b[39m.\u001b[39mget(\u001b[39m\"\u001b[39m\u001b[39mvalue\u001b[39m\u001b[39m\"\u001b[39m, \u001b[39mNone\u001b[39;00m))\n\u001b[0;32m    442\u001b[0m     \u001b[39mreturn\u001b[39;00m response\n",
      "File \u001b[1;32mc:\\Users\\gabriel.ponzio\\AppData\\Local\\Programs\\Python\\Python311\\Lib\\site-packages\\selenium\\webdriver\\remote\\errorhandler.py:245\u001b[0m, in \u001b[0;36mErrorHandler.check_response\u001b[1;34m(self, response)\u001b[0m\n\u001b[0;32m    243\u001b[0m         alert_text \u001b[39m=\u001b[39m value[\u001b[39m\"\u001b[39m\u001b[39malert\u001b[39m\u001b[39m\"\u001b[39m]\u001b[39m.\u001b[39mget(\u001b[39m\"\u001b[39m\u001b[39mtext\u001b[39m\u001b[39m\"\u001b[39m)\n\u001b[0;32m    244\u001b[0m     \u001b[39mraise\u001b[39;00m exception_class(message, screen, stacktrace, alert_text)  \u001b[39m# type: ignore[call-arg]  # mypy is not smart enough here\u001b[39;00m\n\u001b[1;32m--> 245\u001b[0m \u001b[39mraise\u001b[39;00m exception_class(message, screen, stacktrace)\n",
      "\u001b[1;31mInvalidSessionIdException\u001b[0m: Message: Tried to run command without establishing a connection\n"
     ]
    }
   ],
   "source": [
    "#Raspagem Oficial\n",
    "#Setup para a raspagem\n",
    "#A URL deve ser mudada de acordo com os filtros feitos no linkedin\n",
    "url = 'https://www.linkedin.com/jobs-guest/jobs/api/seeMoreJobPostings/search?keywords=&location=Brasil&locationId=&geoId=106057199&f_TPR=&f_E=2&start=0'\n",
    "binary = FirefoxBinary(\"C:\\\\Program Files\\\\Mozilla Firefox\\\\firefox.exe\")\n",
    "driver = webdriver.Firefox(firefox_binary=binary, executable_path=\"C:\\\\geckodriver.exe\",)\n",
    "\n",
    "#Raspagem das vagas\n",
    "#A plataforma permite a visualização de 1000 vagas, depois da 1000 ele apresenta erro 404\n",
    "for page in range (0, 100, 25):\n",
    "    url = 'https://www.linkedin.com/jobs-guest/jobs/api/seeMoreJobPostings/search?keywords=&location=Brasil&locationId=&geoId=106057199&f_TPR=&f_E=2&start='+ str(page)\n",
    "    driver.get(url)\n",
    "    time.sleep(4)\n",
    "    \n",
    "    #Cada Página apresenta 25 vagas\n",
    "    for i in range(1, 26):\n",
    "        try:\n",
    "            #Coleta dos dados da vaga\n",
    "            time.sleep(2)\n",
    "            NomeVaga = driver.find_element(By.XPATH, '/html/body/li[' + str(i) + ']/div/div[2]/h3').text\n",
    "            Empresa = driver.find_element(By.XPATH, '/html/body/li[' + str(i) + ']/div/div[2]/h4/a').text\n",
    "            Local = driver.find_element(By.XPATH, '/html/body/li['  + str(i) + ']/div/div[2]/div/span').text \n",
    "            Data = driver.find_element(By.XPATH, '/html/body/li['   + str(i) + ']/div/div[2]/div/time').get_attribute('datetime')\n",
    "            URL = driver.find_element(By.XPATH, '/html/body/li[' + str(i) + ']/div/a').get_attribute('href')\n",
    "\n",
    "            #Acessa a página da vaga e coleta a descrição\n",
    "            driver.find_element(By.XPATH, '/html/body/li['+ str(i) + ']/div/a/span').click() \n",
    "            time.sleep(2)\n",
    "            driver.find_element(By.XPATH, '//*[@id=\"main-content\"]/section[1]/div/div/section[1]/div/div/section/button[1]').click()\n",
    "            Desc = driver.find_element(By.XPATH, '//*[@id=\"main-content\"]/section[1]/div/div/section[1]/div/div/section/div').text\n",
    "            driver.back()\n",
    "            time.sleep(2)\n",
    "            \n",
    "            #Verifica se a vaga já está cadastrada\n",
    "            testador = False\n",
    "            cursor.execute('SELECT * FROM Vagas WHERE Vaga = %s AND Empresa = %s AND Local = %s AND Data = %s AND descricao = %s', (NomeVaga, Empresa, Local, Data, Desc))\n",
    "            result = cursor.fetchone()\n",
    "            if result:\n",
    "                print(f\"A vaga {NomeVaga} já está cadastrada.\")\n",
    "                testador = True\n",
    "\n",
    "            #Valida e caso não esteja, registra a vaga no banco\n",
    "            if testador == False:   \n",
    "                cursor.execute('INSERT INTO Vagas (Vaga, Empresa, Local, Data, descricao, URL,TipoVaga) VALUES (%s, %s, %s, %s, %s , %s, 2)', (NomeVaga, Empresa, Local, Data, Desc, URL))  \n",
    "                conexao.commit()\n",
    "            \n",
    "        #Tratamento de erros\n",
    "        #Caso ocorra algum erro de carregamento ou redirecionamento da página, ele recomeça a raspagem da vaga atual\n",
    "        except Exception as e:\n",
    "            print(f\"Erro ao obter dados da vaga {i}. Tentando novamente...\")\n",
    "            print('erro: ', e)\n",
    "            i -= 1\n",
    "            driver.get(url)\n",
    "            time.sleep(2)\n",
    "            continue\n",
    "    \n",
    "    driver.close()"
   ]
  },
  {
   "cell_type": "markdown",
   "metadata": {},
   "source": [
    "# Codígo banco de dados + link das vagas com os filtros\n",
    "\n",
    "1 - Link dos Estágios ->'https://www.linkedin.com/jobs-guest/jobs/api/seeMoreJobPostings/search?keywords=&location=Brasil&locationId=&geoId=106057199&f_TPR=&f_E=1&start=0'\n",
    "\n",
    "2 - Link dos Assistentes -> https://www.linkedin.com/jobs-guest/jobs/api/seeMoreJobPostings/search?keywords=&location=Brasil&locationId=&geoId=106057199&f_TPR=&f_E=2&start=0\n",
    "\n",
    "3 - Link dos Júniors -> https://www.linkedin.com/jobs-guest/jobs/api/seeMoreJobPostings/search?keywords=&location=Brasil&locationId=&geoId=106057199&f_TPR=&f_E=3&start=0\n",
    "\n",
    "4 - Link dos Plenos-Sêniors -> https://www.linkedin.com/jobs-guest/jobs/api/seeMoreJobPostings/search?keywords=&location=Brasil&locationId=&geoId=106057199&f_TPR=&f_E=4&start=0\n",
    "\n",
    "5 - Link dos Diretores -> https://www.linkedin.com/jobs-guest/jobs/api/seeMoreJobPostings/search?keywords=&location=Brasil&locationId=&geoId=106057199&f_TPR=&f_E=5&start=25\n"
   ]
  }
 ],
 "metadata": {
  "kernelspec": {
   "display_name": "Python 3",
   "language": "python",
   "name": "python3"
  },
  "language_info": {
   "codemirror_mode": {
    "name": "ipython",
    "version": 3
   },
   "file_extension": ".py",
   "mimetype": "text/x-python",
   "name": "python",
   "nbconvert_exporter": "python",
   "pygments_lexer": "ipython3",
   "version": "3.11.4"
  }
 },
 "nbformat": 4,
 "nbformat_minor": 2
}
